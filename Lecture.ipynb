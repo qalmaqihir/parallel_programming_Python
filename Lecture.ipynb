{
 "cells": [
  {
   "cell_type": "markdown",
   "id": "92717239",
   "metadata": {},
   "source": [
    "[A great lecture](https://research.computing.yale.edu/training/parallel-programming-python)\n",
    "\n",
    "## Serial Execution\n",
    "Typical programs operate lines sequentially"
   ]
  },
  {
   "cell_type": "code",
   "execution_count": 1,
   "id": "b90e1543",
   "metadata": {},
   "outputs": [],
   "source": [
    "import numpy as np\n",
    "import os\n",
    "import random"
   ]
  },
  {
   "cell_type": "code",
   "execution_count": 2,
   "id": "646adc62",
   "metadata": {},
   "outputs": [
    {
     "name": "stdout",
     "output_type": "stream",
     "text": [
      "0\n",
      "1\n",
      "4\n",
      "9\n",
      "16\n",
      "25\n"
     ]
    }
   ],
   "source": [
    "# define an array of numbers\n",
    "\n",
    "foo = np.array([0,1,2,3,4,5])\n",
    "\n",
    "# define a func tht squares the numbers\n",
    "def bar(x):\n",
    "    return x*x\n",
    "\n",
    "# a loop over each element and perfrom an action on it\n",
    "for element in foo:\n",
    "    #print the results of bar\n",
    "    print(bar(element))"
   ]
  },
  {
   "cell_type": "markdown",
   "id": "2e87822d",
   "metadata": {},
   "source": [
    "# The `map` function\n",
    "A key tool we will utilize later is cal `map`. This lets us apply a function to each element in an array or list\n"
   ]
  },
  {
   "cell_type": "code",
   "execution_count": 3,
   "id": "e70e934f",
   "metadata": {},
   "outputs": [],
   "source": [
    "# verity the ineffcient way to define a map function\n",
    "def my_map(function, array):\n",
    "    #create a containeer for the results\n",
    "    output = []\n",
    "    # loop over each element\n",
    "    for element in array:\n",
    "        # add the intermediate result to the container\n",
    "        output.append(function(element))\n",
    "        \n",
    "    # return the now-filled contianer\n",
    "    return output"
   ]
  },
  {
   "cell_type": "code",
   "execution_count": 4,
   "id": "90580bc2",
   "metadata": {},
   "outputs": [
    {
     "data": {
      "text/plain": [
       "[0, 1, 4, 9, 16, 25]"
      ]
     },
     "execution_count": 4,
     "metadata": {},
     "output_type": "execute_result"
    }
   ],
   "source": [
    "my_map(bar, foo)"
   ]
  },
  {
   "cell_type": "markdown",
   "id": "77acd52f",
   "metadata": {},
   "source": [
    "Python has a helpful `map` function in the standard libaray\n",
    "this map is much more flexible and featured than ours, so it is best to use this instead\n"
   ]
  },
  {
   "cell_type": "code",
   "execution_count": 5,
   "id": "cdaefac7",
   "metadata": {},
   "outputs": [
    {
     "data": {
      "text/plain": [
       "[0, 1, 4, 9, 16, 25]"
      ]
     },
     "execution_count": 5,
     "metadata": {},
     "output_type": "execute_result"
    }
   ],
   "source": [
    "list(map(bar,foo))"
   ]
  },
  {
   "cell_type": "markdown",
   "id": "348c7323",
   "metadata": {},
   "source": [
    "## Parallel workes\n",
    "In the example we showed before, no step of the `map` call depend on the other steps  \n",
    "Rather than waiting for the function to loop over each value, we could create mutliple instances of the function `bar` and apply it to each value simultaneously  \n",
    "This is achieved with the `mutliprocessing` module and a pool of workers..."
   ]
  },
  {
   "cell_type": "markdown",
   "id": "81840220",
   "metadata": {},
   "source": [
    "# The `multiprocessing` Module\n",
    "The `multiprocessing` module has a number of functions to help simplify parallel processing. \n",
    "One such tool is `Pool` class. It allows us to setup  group of processes to execute tasks in parallel. This is called a pool of workeer processes.\n",
    "First we will create the pool with a sepcified number of workeers. We will then use our `map` utility to apply functions to our array"
   ]
  },
  {
   "cell_type": "code",
   "execution_count": 6,
   "id": "1f9bb469",
   "metadata": {},
   "outputs": [
    {
     "name": "stdout",
     "output_type": "stream",
     "text": [
      "[0, 1, 4, 9, 16, 25]\n"
     ]
    }
   ],
   "source": [
    "import multiprocessing \n",
    "\n",
    "# creating  a pool of processes\n",
    "with multiprocessing.Pool(processes=6) as pool:\n",
    "    # map the np.sqaure funtion on our foo arary\n",
    "    result = pool.map(np.square, foo)\n",
    "    \n",
    "print(result)"
   ]
  },
  {
   "cell_type": "markdown",
   "id": "f9fa9e70",
   "metadata": {},
   "source": [
    "the difference here is that each element of this this list is being handled by a different process"
   ]
  },
  {
   "cell_type": "code",
   "execution_count": 7,
   "id": "85924e5a",
   "metadata": {},
   "outputs": [],
   "source": [
    "# to show how this is actually being handled, let's create a new function:\n",
    "\n",
    "def parallel_test(x):\n",
    "    # print the index of the job and it's process ID number\n",
    "    print(f\"x = {x}, ID = {os.getpid()}\")"
   ]
  },
  {
   "cell_type": "code",
   "execution_count": 8,
   "id": "3e81a326",
   "metadata": {},
   "outputs": [
    {
     "name": "stdout",
     "output_type": "stream",
     "text": [
      "x = 0, ID = 130208\n",
      "x = 1, ID = 130208\n",
      "x = 2, ID = 130208\n",
      "x = 3, ID = 130208\n",
      "x = 4, ID = 130208\n",
      "x = 5, ID = 130208\n"
     ]
    },
    {
     "data": {
      "text/plain": [
       "[None, None, None, None, None, None]"
      ]
     },
     "execution_count": 8,
     "metadata": {},
     "output_type": "execute_result"
    }
   ],
   "source": [
    "# Now we can map this function on the foo aray from before, first with simple  build-in map func\n",
    "list(map(parallel_test, foo))"
   ]
  },
  {
   "cell_type": "code",
   "execution_count": 9,
   "id": "5545188f",
   "metadata": {},
   "outputs": [
    {
     "name": "stdout",
     "output_type": "stream",
     "text": [
      "x = 0, ID = 130239x = 4, ID = 130243x = 3, ID = 130242x = 1, ID = 130240x = 2, ID = 130241x = 5, ID = 130244\n",
      "\n",
      "\n",
      "\n",
      "\n",
      "\n"
     ]
    }
   ],
   "source": [
    "# now we can run this using multiprocessing; so the PID will be difference (a different process), the order will be also different\n",
    "with multiprocessing.Pool(processes=6) as pool:\n",
    "    result = pool.map(parallel_test, foo)"
   ]
  },
  {
   "cell_type": "markdown",
   "id": "9ae750b1",
   "metadata": {},
   "source": [
    "**Now we tried the same process using multiprocessing:**\n",
    "\n",
    "Two things are worth noting:\n",
    "1. Each element is processed by a different PID\n",
    "2. The tasks are not executed in order\n"
   ]
  },
  {
   "cell_type": "markdown",
   "id": "f71e240d",
   "metadata": {},
   "source": [
    "# Key Take-aways:\n",
    "1. The `map` fuction is designed to apply thee same functin to each of item in an iterator\n",
    "2. In serial processing, this works like a for-loop\n",
    "3. Parallel execution sets up multiple worker processes that act separatly and simlultaneously"
   ]
  },
  {
   "cell_type": "markdown",
   "id": "9ac6af83",
   "metadata": {},
   "source": [
    "# Classes of Parallelism\n",
    "## Embarassingly Parallel Probelms:\n",
    "- Many problems can be simply converted into parallel execution with the `multiprocessing` module"
   ]
  },
  {
   "cell_type": "markdown",
   "id": "89f58e08",
   "metadata": {},
   "source": [
    "### Example 1 Monte Carlo Pi Calculation\n",
    "- Run multiple instances of the same simulatioon with different random number generator seed\n",
    "- Define a function to calculate `pi` that takes the random seed as input, then map it to an array of random seeds.\n"
   ]
  },
  {
   "cell_type": "code",
   "execution_count": 10,
   "id": "013d27a5",
   "metadata": {},
   "outputs": [],
   "source": [
    "def pi_mc(seed):\n",
    "    num_trails = 100000\n",
    "    counter = 0\n",
    "    for j in range(num_trails):\n",
    "        x_val=random.random()\n",
    "        y_val=random.random()\n",
    "        \n",
    "        radius = x_val**2 + y_val**2\n",
    "        if radius <1:\n",
    "            counter+=1\n",
    "    return 4*counter/num_trails\n",
    "\n"
   ]
  },
  {
   "cell_type": "markdown",
   "id": "5b1c19d0",
   "metadata": {},
   "source": [
    "## Serial vs Parallel"
   ]
  },
  {
   "cell_type": "code",
   "execution_count": 11,
   "id": "9437dc4d",
   "metadata": {},
   "outputs": [
    {
     "name": "stdout",
     "output_type": "stream",
     "text": [
      "34.4 ms ± 315 µs per loop (mean ± std. dev. of 7 runs, 10 loops each)\n"
     ]
    }
   ],
   "source": [
    "%timeit pi_mc(1)"
   ]
  },
  {
   "cell_type": "code",
   "execution_count": 12,
   "id": "78fad366",
   "metadata": {},
   "outputs": [
    {
     "name": "stdout",
     "output_type": "stream",
     "text": [
      "140 ms ± 3.21 ms per loop (mean ± std. dev. of 7 runs, 10 loops each)\n"
     ]
    }
   ],
   "source": [
    "seed_arry=list(range(4))\n",
    "\n",
    "%timeit list(map(pi_mc, seed_arry))\n"
   ]
  },
  {
   "cell_type": "code",
   "execution_count": 13,
   "id": "c35218a8",
   "metadata": {},
   "outputs": [
    {
     "name": "stdout",
     "output_type": "stream",
     "text": [
      "[3.14368, 3.14712, 3.14488, 3.14076]\n",
      "CPU times: user 11.3 ms, sys: 8.86 ms, total: 20.1 ms\n",
      "Wall time: 87.8 ms\n"
     ]
    }
   ],
   "source": [
    "%%time \n",
    "with multiprocessing.Pool(processes=4) as pool:\n",
    "    result = pool.map(pi_mc, seed_arry)\n",
    "print(result)"
   ]
  },
  {
   "cell_type": "markdown",
   "id": "584811fc",
   "metadata": {},
   "source": [
    "---"
   ]
  },
  {
   "cell_type": "markdown",
   "id": "5c1f0560",
   "metadata": {},
   "source": [
    "### Example 2: Processing multiple input files"
   ]
  },
  {
   "cell_type": "code",
   "execution_count": null,
   "id": "221bf1bc",
   "metadata": {},
   "outputs": [],
   "source": []
  }
 ],
 "metadata": {
  "kernelspec": {
   "display_name": "Python 3 (ipykernel)",
   "language": "python",
   "name": "python3"
  },
  "language_info": {
   "codemirror_mode": {
    "name": "ipython",
    "version": 3
   },
   "file_extension": ".py",
   "mimetype": "text/x-python",
   "name": "python",
   "nbconvert_exporter": "python",
   "pygments_lexer": "ipython3",
   "version": "3.9.12"
  }
 },
 "nbformat": 4,
 "nbformat_minor": 5
}
